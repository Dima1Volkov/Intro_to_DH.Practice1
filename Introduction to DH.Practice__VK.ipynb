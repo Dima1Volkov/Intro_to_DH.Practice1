{
 "cells": [
  {
   "cell_type": "code",
   "execution_count": 1,
   "metadata": {},
   "outputs": [],
   "source": [
    "import re \n",
    "import pandas as pd\n",
    "import pymorphy2"
   ]
  },
  {
   "cell_type": "code",
   "execution_count": 2,
   "metadata": {},
   "outputs": [],
   "source": [
    "df = pd.read_csv('rt_russian.csv',index_col = 0)"
   ]
  },
  {
   "cell_type": "code",
   "execution_count": 19,
   "metadata": {},
   "outputs": [],
   "source": [
    "list_of_groups = ['kinopoisk','kudrovo','meduza','murino','nplusone','vcru']"
   ]
  },
  {
   "cell_type": "code",
   "execution_count": 9,
   "metadata": {},
   "outputs": [],
   "source": [
    "with open ('rt_russian.txt', 'w', encoding='utf-8') as f:\n",
    "    for i in df.body:\n",
    "        f.write(str(i))"
   ]
  },
  {
   "cell_type": "code",
   "execution_count": 11,
   "metadata": {},
   "outputs": [],
   "source": [
    "with open ('clean_rt_russian.txt', 'w', encoding='utf-8') as f:\n",
    "    for i in df.body:\n",
    "        i = str(i).replace('\\n \\n','')\n",
    "        i = re.sub('(https:).+', '', i)\n",
    "        f.write(str(i))"
   ]
  },
  {
   "cell_type": "code",
   "execution_count": 12,
   "metadata": {},
   "outputs": [],
   "source": [
    "morph = pymorphy2.MorphAnalyzer()"
   ]
  },
  {
   "cell_type": "code",
   "execution_count": 18,
   "metadata": {},
   "outputs": [],
   "source": [
    "with open ('lemma_rt_russian.txt', 'w', encoding='utf-8') as f:\n",
    "    for i in df.body:\n",
    "        prog = re.compile(\"[А-Яа-я]+\") # убирает всё лишнее и разбивает на токены \n",
    "        i = prog.findall(str(i).lower())\n",
    "        #i = re.sub('(https:).+', '', i)\n",
    "        l = [morph.parse(tok)[0].normal_form for tok in i] #if not tok in stopwords.words(\"russian\")]\n",
    "        f.write(str(l))"
   ]
  },
  {
   "cell_type": "code",
   "execution_count": 21,
   "metadata": {},
   "outputs": [],
   "source": [
    "for a in list_of_groups:\n",
    "    df = pd.read_csv(f'{a}.csv',index_col = 0)\n",
    "    with open (f'{a}.txt', 'w', encoding='utf-8') as f:\n",
    "        for i in df.body:\n",
    "            f.write(str(i))\n",
    "    with open (f'clean_{a}.txt', 'w', encoding='utf-8') as f:\n",
    "        for i in df.body:\n",
    "            i = str(i).replace('\\n \\n','')\n",
    "            i = re.sub('(https:).+', '', i)\n",
    "            f.write(str(i))\n",
    "    with open (f'lemma_{a}.txt', 'w', encoding='utf-8') as f:\n",
    "        for i in df.body:\n",
    "            prog = re.compile(\"[А-Яа-я]+\") # убирает всё лишнее и разбивает на токены \n",
    "            i = prog.findall(str(i).lower())\n",
    "            #i = re.sub('(https:).+', '', i)\n",
    "            l = [morph.parse(tok)[0].normal_form for tok in i] #if not tok in stopwords.words(\"russian\")]\n",
    "            f.write(str(l))"
   ]
  },
  {
   "cell_type": "code",
   "execution_count": null,
   "metadata": {},
   "outputs": [],
   "source": []
  },
  {
   "cell_type": "code",
   "execution_count": 64,
   "metadata": {},
   "outputs": [],
   "source": []
  },
  {
   "cell_type": "code",
   "execution_count": 60,
   "metadata": {},
   "outputs": [],
   "source": [
    "from pymystem3 import Mystem"
   ]
  },
  {
   "cell_type": "code",
   "execution_count": 61,
   "metadata": {},
   "outputs": [],
   "source": [
    "space = ''\n",
    "lemmas = m.lemmatize(rt[0])\n",
    "lemmas = space.join(lemmas)"
   ]
  },
  {
   "cell_type": "code",
   "execution_count": 62,
   "metadata": {},
   "outputs": [
    {
     "data": {
      "text/plain": [
       "'сериал «острый козырек» взрывать кинематограф, завоевывать сердце миллион поклонник по весь мир! стиль, актерский игра... и неповторимый диалект бирмингем! в 12-м выпуск «акцент шоу» ведущий алексей ярошевский разбирать один из самый сложный говор англия — Brummie! \\n \\nесли вы любить сериал «острый козырек», слушать Black Sabbath, болеть за «астон вилла» или «бирмингем сити», ну или просто планировать посещать второй по размер город англия, то вы сюда! \\n \\nBy order of the Peaky Blinders! \\n \\nhttps://youtu.be/tQuaQjV4OoA\\n'"
      ]
     },
     "execution_count": 62,
     "metadata": {},
     "output_type": "execute_result"
    }
   ],
   "source": [
    "lemmas"
   ]
  },
  {
   "cell_type": "code",
   "execution_count": 65,
   "metadata": {},
   "outputs": [
    {
     "data": {
      "text/plain": [
       "'Сериал «Острые козырьки» взорвал кинематограф, завоевав сердца миллионов поклонников по всему миру! Стиль, актёрская игра... и неповторимый диалект Бирмингема! В 12-м выпуске «Акцент Шоу» ведущий Алексей Ярошевский разбирает один из самых сложных говоров Англии — Brummie! \\n \\nЕсли вы любите сериал «Острые козырьки», слушаете Black Sabbath, болеете за «Астон Вилла» или «Бирмингем Сити», ну или просто планируете посетить второй по размерам город Англии, то вам сюда! \\n \\nBy order of the Peaky Blinders! \\n \\n'"
      ]
     },
     "execution_count": 65,
     "metadata": {},
     "output_type": "execute_result"
    }
   ],
   "source": [
    "re.sub('(https:).+', '', rt[0])"
   ]
  },
  {
   "cell_type": "code",
   "execution_count": 66,
   "metadata": {},
   "outputs": [
    {
     "data": {
      "text/plain": [
       "'Сериал «Острые козырьки» взорвал кинематограф, завоевав сердца миллионов поклонников по всему миру! Стиль, актёрская игра... и неповторимый диалект Бирмингема! В 12-м выпуске «Акцент Шоу» ведущий Алексей Ярошевский разбирает один из самых сложных говоров Англии — Brummie! Если вы любите сериал «Острые козырьки», слушаете Black Sabbath, болеете за «Астон Вилла» или «Бирмингем Сити», ну или просто планируете посетить второй по размерам город Англии, то вам сюда! By order of the Peaky Blinders! https://youtu.be/tQuaQjV4OoA'"
      ]
     },
     "execution_count": 66,
     "metadata": {},
     "output_type": "execute_result"
    }
   ],
   "source": [
    "rt[0].replace('\\n \\n','')"
   ]
  },
  {
   "cell_type": "code",
   "execution_count": null,
   "metadata": {},
   "outputs": [],
   "source": []
  }
 ],
 "metadata": {
  "kernelspec": {
   "display_name": "Python 3",
   "language": "python",
   "name": "python3"
  },
  "language_info": {
   "codemirror_mode": {
    "name": "ipython",
    "version": 3
   },
   "file_extension": ".py",
   "mimetype": "text/x-python",
   "name": "python",
   "nbconvert_exporter": "python",
   "pygments_lexer": "ipython3",
   "version": "3.6.5"
  }
 },
 "nbformat": 4,
 "nbformat_minor": 4
}
